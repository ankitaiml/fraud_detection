{
 "cells": [
  {
   "cell_type": "code",
   "execution_count": null,
   "metadata": {},
   "outputs": [],
   "source": [
    "print('Adding ml model code')\n",
    "\n",
    "def model1():\n",
    "    print('ML model 1')\n",
    "\n",
    "def model2():\n",
    "    print('ML model 2')\n",
    "\n",
    "def model3():\n",
    "    print('ML model 3')\n",
    "\n",
    "print('Model 2 is performing best')\n"
   ]
  }
 ],
 "metadata": {
  "language_info": {
   "name": "python"
  }
 },
 "nbformat": 4,
 "nbformat_minor": 2
}
